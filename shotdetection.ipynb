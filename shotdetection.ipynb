import os
import argparse
!pip install google-cloud-videointelligence
from google.cloud import videointelligence

import subprocess
os.environ['GOOGLE_APPLICATION_CREDENTIALS'] = '/content/google_account_key.json'
video_client = videointelligence.VideoIntelligenceServiceClient()

from google.cloud import storage
global uri
client = storage.Client()
bucket = client.get_bucket("dummy_video_api")
blobs = list(bucket.list_blobs())

import math
import matplotlib.pyplot as plt
import numpy as np
import pandas as pd

standard_dev_for_each_video = []
no_cut_scenes_videos = []
average_frame_time_for_each_video = []
for blob in bucket.list_blobs():
    print(blob.name)
    input_path = f"/tmp/{blob.name}"
    cmd = f"ffmpeg -i {input_path}"
    subprocess.call(cmd, shell=True)
    print(input_path)
        
    # Upload the output file to the same bucket
    #output_blob = bucket.blob(output_name)
    #print(output_blob)

    operation = video_client.annotate_video(input_uri="gs://dummy_video_api/"+blob.name, features=['SHOT_CHANGE_DETECTION'],)
    result = operation.result()
    #print(result)
    annotation_res_shot = result.annotation_results[0]
    # Empty list
    shot_times = []
    for i, shot in enumerate(annotation_res_shot.shot_annotations): 
        start_time = (shot.start_time_offset.seconds + shot.start_time_offset.microseconds / 1e6)
        end_time = (shot.end_time_offset.seconds + shot.end_time_offset.microseconds / 1e6)
        print("\tShot {}: {} to {}".format(i, start_time, end_time))
        shot_time = end_time - start_time
        # Time taken for each shot
        print('Time of this shot', shot_time)
        # Appending to the list
        shot_times.append(shot_time)
        
    # Calculating Sum of total shot time
    total_time = sum(shot_times)
    print('Total time for all the shots', total_time)
    
    # Calculating the number of shots
    print('The number time the shots changed is:', i)

    # Calculating the average shot time
    average_time = total_time / i
    print('The average time of each frame is:', average_time)
    
    # Appending the average times of all the videos
    average_frame_time_for_each_video.append(average_time)

    # Calculating the standard deviation
    variance = sum([((x - average_time) ** 2) for x in shot_times]) / len(shot_times)
    standard_deviation = math.sqrt(variance)
    print('The standard deviation of the shot times is:', standard_deviation)
    
    # Append the standard deviation value to the list
    standard_dev_for_each_video.append(standard_deviation)
    
    if standard_deviation != 0.0:
        # Generate x values for normal distribution
        x = np.linspace(average_time - 3 * standard_deviation, average_time + 3 * standard_deviation, 100)

        # Calculate the corresponding y values for the normal distribution
        y = 1 / (standard_deviation * math.sqrt(2 * math.pi)) * np.exp(-(x - average_time) ** 2 / (2 * standard_deviation ** 2))
        
        # Create a plot of the normal distribution
        plt.plot(x, y, label='Normal Distribution')

        # Add a vertical line for the average time
        plt.axvline(x=average_time, color='red', linestyle='--', label='Average Time')

        # Add vertical lines for one standard deviation above and below the mean
        plt.axvline(x=average_time + standard_deviation, color='green', linestyle='--', label='Standard Deviation')
        plt.axvline(x=average_time - standard_deviation, color='green', linestyle='--')

        # Add labels and a title to the plot
        plt.xlabel('Time (s)')
        plt.ylabel('Probability density')
        plt.title('Normal Distribution of Shot Times: {}'.format(blob.name))

        # Add a legend to the plot
        plt.legend()

        # Show the plot
        plt.show()
        
    else:
        no_cut_scenes_videos.append(blob.name)
        print("\n\nVideos without cut scenes:")
        for shots in no_cut_scenes_videos:
            print(shots)
        print("\nTotal number of videos without shot: "+str(len(no_cut_scenes_videos)))
    
    # Rearranging the labels to start the x axis from zero
    x_labels = np.arange(len(shot_times))
    
    # Plotting the bar plot with respect to the length of shot times
    plt.bar(range(len(shot_times)), shot_times)

    # set x-tick labels
    plt.xticks(range(len(shot_times)), range(len(shot_times)))

    # set axis labels
    plt.xlabel('Shot number')
    plt.ylabel('Shot time (s)')

    # show plot
    plt.show()

    total_average_time = sum(average_frame_time_for_each_video) / len(average_frame_time_for_each_video)
    print('The average frame time for all videos is:', total_average_time)

    # Calculate the average standard deviation of all videos
    total_average_standard_deviation = sum(standard_dev_for_each_video) / len(standard_dev_for_each_video)
    print('The total average standard deviation for all videos is:', total_average_standard_deviation)

    # Generate x values for normal distribution
    x = np.linspace(total_average_time - 3 * total_average_standard_deviation, total_average_time + 3 * total_average_standard_deviation, 100)

# Calculate the corresponding y values for the normal distribution
y = 1 / (total_average_standard_deviation * math.sqrt(2 * math.pi)) * np.exp(-(x - total_average_time) ** 2 / (2 * total_average_standard_deviation ** 2))

# Create a plot of the normal distribution
plt.plot(x, y, label='Total Normal Distribution')

# Add a vertical line for the average time
plt.axvline(x=total_average_time, color='red', linestyle='--', label='Total Average Time')

# Add vertical lines for one standard deviation above and below the mean
plt.axvline(x=total_average_time + total_average_standard_deviation, color='green', linestyle='--', label='Standard Deviation')
plt.axvline(x=total_average_time - total_average_standard_deviation, color='green', linestyle='--')

# Add labels and a title to the plot
plt.xlabel('Time (s)')
plt.ylabel('Probability density')
plt.title('Total Average Normal Distribution of Shot Times')

# Add a legend to the plot
plt.legend()

# Show the plot
plt.show()
